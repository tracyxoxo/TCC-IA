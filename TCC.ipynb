{
  "cells": [
    {
      "cell_type": "markdown",
      "metadata": {
        "id": "view-in-github",
        "colab_type": "text"
      },
      "source": [
        "<a href=\"https://colab.research.google.com/github/tracyxoxo/TCC-IA/blob/main/TCC.ipynb\" target=\"_parent\"><img src=\"https://colab.research.google.com/assets/colab-badge.svg\" alt=\"Open In Colab\"/></a>"
      ]
    },
    {
      "cell_type": "markdown",
      "source": [
        "### Por se tratar de um ambiente linux, rodando o jupyter notebok, é necessário:\n",
        "\n",
        "### 1. Instalar o google chrome\n",
        "### 2. Instalar chrome driver\n",
        "### 3. Instalar a biblioteca selenium"
      ],
      "metadata": {
        "id": "c958C8xC2E8r"
      }
    },
    {
      "cell_type": "code",
      "source": [
        "# Instalação do google chrome\n",
        "!wget -q https://dl.google.com/linux/direct/google-chrome-stable_current_amd64.deb\n",
        "!dpkg -i google-chrome-stable_current_amd64.deb || apt-get -fy install\n",
        "\n",
        "# Instalação do chromedriver\n",
        "!wget -O chromedriver_linux64.zip https://storage.googleapis.com/chrome-for-testing-public/136.0.7103.113/linux64/chromedriver-linux64.zip\n",
        "!unzip -o chromedriver_linux64.zip\n",
        "!mv -f chromedriver-linux64/chromedriver /usr/bin/chromedriver\n",
        "!chmod +x /usr/bin/chromedriver\n",
        "\n",
        "# Instalação da bilbioteca para o webcrawler\n",
        "!pip install -q selenium"
      ],
      "metadata": {
        "id": "6u0XSUmTwyZL"
      },
      "execution_count": null,
      "outputs": []
    },
    {
      "cell_type": "markdown",
      "source": [
        "### **WebCrawler para capturar dados historicos do INMET.**\n",
        "\n",
        "#### **Configurado para executar o webcrawler no modo \"headless\" (sem interface)**"
      ],
      "metadata": {
        "id": "J9tR4BKG2JwZ"
      }
    },
    {
      "cell_type": "code",
      "source": [
        "# Biblioteca selenium\n",
        "from selenium import webdriver\n",
        "from selenium.webdriver.chrome.service import Service\n",
        "from selenium.webdriver.chrome.options import Options\n",
        "\n",
        "# Bibliotecas para manipulação webcrawler\n",
        "import time\n",
        "import os\n",
        "import requests\n",
        "\n",
        "# Configurações iniciais do google chrome\n",
        "chrome_options = Options()\n",
        "chrome_options.add_argument(\"--headless\")\n",
        "chrome_options.add_argument(\"--no-sandbox\")\n",
        "chrome_options.add_argument(\"--disable-dev-shm-usage\")\n",
        "chrome_options.binary_location = \"/usr/bin/google-chrome\"\n",
        "\n",
        "driver = webdriver.Chrome(service=Service(\"/usr/bin/chromedriver\"), options=chrome_options)\n",
        "\n",
        "url = \"https://portal.inmet.gov.br/dadoshistoricos\"\n",
        "driver.get(url)\n",
        "time.sleep(3)\n",
        "\n",
        "save_folder = \"/content/inmet_files\"\n",
        "os.makedirs(save_folder, exist_ok=True)\n",
        "\n",
        "def get_all_article_links(driver):\n",
        "    links = []\n",
        "    index = 1\n",
        "    while True:\n",
        "        try:\n",
        "            xpath = f\"/html/body/div[4]/div/div/article[{index}]/a\"\n",
        "            element = driver.find_element(\"xpath\", xpath)\n",
        "            href = element.get_attribute(\"href\")\n",
        "            print(f\"Found link #{index}: {href}\")\n",
        "            links.append(href)\n",
        "            index += 1\n",
        "        except Exception as e:\n",
        "            print(f\"Parou no article {index}, erro: {e}\")\n",
        "            break\n",
        "    return links\n",
        "\n",
        "all_links = get_all_article_links(driver)\n",
        "\n",
        "for i, link in enumerate(all_links):\n",
        "    print(f\"Baixando arquivo {i+1} de {len(all_links)}: {link}\")\n",
        "    response = requests.get(link)\n",
        "    if response.status_code == 200:\n",
        "        filename = link.split(\"/\")[-1].split(\"?\")[0]\n",
        "        path = os.path.join(save_folder, filename)\n",
        "        with open(path, \"wb\") as f:\n",
        "            f.write(response.content)\n",
        "        print(f\"Salvo em {path}\")\n",
        "    else:\n",
        "        print(f\"Erro ao baixar {link}: Status {response.status_code}\")\n",
        "\n",
        "driver.quit()"
      ],
      "metadata": {
        "id": "shvho8tGwyOV"
      },
      "execution_count": null,
      "outputs": []
    },
    {
      "cell_type": "markdown",
      "source": [
        "### **Bibliotecas da aplicação**"
      ],
      "metadata": {
        "id": "_V4f_d3YPWaM"
      }
    },
    {
      "cell_type": "code",
      "execution_count": null,
      "metadata": {
        "id": "EBIQ9bbEBrag"
      },
      "outputs": [],
      "source": [
        "# Baixando diretamente do repositório o arquivo utilities.py\n",
        "!wget https://raw.githubusercontent.com/tracyxoxo/TCC-IA/refs/heads/dev/utilities.py\n",
        "\n",
        "# Bibliotecas da aplicação\n",
        "import pandas as pd\n",
        "import matplotlib.pyplot as plt\n",
        "from shutil import move\n",
        "from utilities import extract_filtered_files,standard_hour,create_incorrect_data_matrix, plot_two_variables_vs_time\n",
        "from datetime import time\n",
        "import plotly.express as px\n",
        "from plotly.subplots import make_subplots\n",
        "import plotly.graph_objects as go"
      ]
    },
    {
      "cell_type": "markdown",
      "source": [
        "### **Função proveniente do arquivo utilities para filtro dos arquivos com base na torre**"
      ],
      "metadata": {
        "id": "GbSQT65XIxTq"
      }
    },
    {
      "cell_type": "code",
      "execution_count": null,
      "metadata": {
        "id": "tDDUXxI5wsAP"
      },
      "outputs": [],
      "source": [
        "filtered_files = extract_filtered_files(\n",
        "    files_path=r\"/content/inmet_files\",\n",
        "    extract_path=r\"/data_extracted\",\n",
        "    pattern='INMET_SE_SP_A705_BAURU'\n",
        ")\n",
        "\n",
        "filtered_files"
      ]
    },
    {
      "cell_type": "markdown",
      "metadata": {
        "id": "gmpYMx4d-zVN"
      },
      "source": [
        "#### **Processando dados dos diferentes anos disponíveis no website do INMET com base na torre selecionada (BAURU - SP) (2001 - 2025)**"
      ]
    },
    {
      "cell_type": "code",
      "execution_count": null,
      "metadata": {
        "id": "xeK4dpyo-vgw"
      },
      "outputs": [],
      "source": [
        "df_list = []\n",
        "\n",
        "files = filtered_files\n",
        "\n",
        "for file in files:\n",
        "    df = pd.read_csv(file, encoding=\"ISO-8859-1\", sep=\";\", skiprows=8, header=0)\n",
        "    df = df.rename(columns={\n",
        "        'DATA (YYYY-MM-DD)': 'Data',\n",
        "        'HORA (UTC)' : 'Hora UTC',\n",
        "        'RADIACAO GLOBAL (KJ/m²)' : 'RADIACAO GLOBAL (Kj/m²)'\n",
        "    })\n",
        "\n",
        "    df_list.append(df)\n",
        "    general_df = pd.concat(df_list, ignore_index=True)"
      ]
    },
    {
      "cell_type": "code",
      "execution_count": null,
      "metadata": {
        "id": "F_zOYHnjwsAQ"
      },
      "outputs": [],
      "source": [
        "general_df"
      ]
    },
    {
      "cell_type": "markdown",
      "source": [
        "### **Removendo coluna vazia**\n",
        "\n"
      ],
      "metadata": {
        "id": "BqSmZbavJwb8"
      }
    },
    {
      "cell_type": "code",
      "execution_count": null,
      "metadata": {
        "id": "fTevUINdwsAQ"
      },
      "outputs": [],
      "source": [
        "general_df.drop(['Unnamed: 19'], axis=1, inplace=True)"
      ]
    },
    {
      "cell_type": "markdown",
      "source": [
        "### **Verificando os tipos iniciais de cada coluna**"
      ],
      "metadata": {
        "id": "wV8aNVUzJ-ym"
      }
    },
    {
      "cell_type": "code",
      "execution_count": null,
      "metadata": {
        "id": "VPX65qtJwsAR"
      },
      "outputs": [],
      "source": [
        "general_df.dtypes"
      ]
    },
    {
      "cell_type": "markdown",
      "metadata": {
        "id": "w20dvcJxwsAS"
      },
      "source": [
        "## Descrição das colunas\n",
        "**PRECIPITAÇÃO TOTAL, HORÁRIO (mm)** – Quantidade total de chuva acumulada em um intervalo de uma hora, medida em milímetros (mm).    \n",
        "\n",
        "**PRESSÃO ATMOSFÉRICA AO NÍVEL DA ESTAÇÃO, HORÁRIA (mB)** – Pressão atmosférica medida no local da estação meteorológica em milibares (mB).  \n",
        "\n",
        "**PRESSÃO ATMOSFÉRICA NA HORA ANT. (AUT) (mB)** – Valor da pressão atmosférica registrado na hora anterior.    \n",
        "\n",
        "**RADIAÇÃO GLOBAL (Kj/m²)** – Quantidade total de energia solar recebida por metro quadrado de superfície em uma hora, medida em kilojoules por metro quadrado (Kj/m²).    \n",
        "\n",
        "**TEMPERATURA DO AR - BULBO SECO, HORÁRIA (°C)** – Temperatura do ar medida por um termômetro comum (sem influência da umidade), expressa em graus Celsius (°C).  \n",
        "\n",
        "**TEMPERATURA DO PONTO DE ORVALHO (°C)** – Temperatura na qual o ar se torna saturado de umidade e ocorre a condensação, formando orvalho.  \n",
        "\n",
        "**TEMPERATURA NA HORA ANT. (AUT) (°C)** – Temperatura do ar registrada na hora anterior.  \n",
        "\n",
        "**TEMPERATURA ORVALHO NA HORA ANT. (AUT) (°C)** – Temperatura do ponto de orvalho registrada na hora anterior.  \n",
        "\n",
        "**UMIDADE REL. NA HORA ANT. (AUT) (%)** – Umidade relativa do ar registrada na hora anterior.  \n",
        "\n",
        "**UMIDADE RELATIVA DO AR, HORÁRIA (%)** – Quantidade de vapor d'água presente no ar em relação à quantidade máxima que ele pode conter a uma determinada temperatura, expressa em porcentagem.  \n",
        "\n",
        "**VENTO, DIREÇÃO HORÁRIA (gr) (° (gr))** – Direção média do vento ao longo da última hora, medida em graus (°) em relação ao norte.  \n",
        "\n",
        "**VENTO, RAJADA MÁXIMA (m/s)** – Maior velocidade do vento em um curto intervalo de tempo dentro da última hora, medida em metros por segundo (m/s).  \n",
        "\n",
        "**VENTO, VELOCIDADE HORÁRIA (m/s)** – Velocidade média do vento ao longo da última hora, medida em metros por segundo (m/s).\n",
        "\n"
      ]
    },
    {
      "cell_type": "markdown",
      "metadata": {
        "id": "1aflF-ScwsAS"
      },
      "source": [
        "### **Conversão do tipos de cada coluna**"
      ]
    },
    {
      "cell_type": "code",
      "execution_count": null,
      "metadata": {
        "id": "BrWcXzt9wsAT"
      },
      "outputs": [],
      "source": [
        "#general_df = backup_df\n",
        "\n",
        "general_df['Data'] = general_df['Data'].str.replace('-','/')\n",
        "general_df['Data'] = pd.to_datetime(general_df['Data'])\n",
        "\n",
        "general_df['Hora UTC'] = general_df['Hora UTC'].apply(standard_hour)\n",
        "general_df['Hora UTC'] = pd.to_datetime(general_df['Hora UTC'], format='%H%M').dt.time\n",
        "\n",
        "general_df['TEMPERATURA DO AR - BULBO SECO, HORARIA (°C)'] = general_df['TEMPERATURA DO AR - BULBO SECO, HORARIA (°C)'].str.replace(',', '.')\n",
        "general_df['TEMPERATURA DO AR - BULBO SECO, HORARIA (°C)'] = general_df['TEMPERATURA DO AR - BULBO SECO, HORARIA (°C)'].astype(float)\n",
        "\n",
        "general_df['PRECIPITAÇÃO TOTAL, HORÁRIO (mm)'] = general_df['PRECIPITAÇÃO TOTAL, HORÁRIO (mm)'].str.replace(',', '.')\n",
        "general_df['PRECIPITAÇÃO TOTAL, HORÁRIO (mm)'] = general_df['PRECIPITAÇÃO TOTAL, HORÁRIO (mm)'].astype(float)\n",
        "\n",
        "general_df['PRESSAO ATMOSFERICA AO NIVEL DA ESTACAO, HORARIA (mB)'] = general_df['PRESSAO ATMOSFERICA AO NIVEL DA ESTACAO, HORARIA (mB)'].str.replace(',', '.')\n",
        "general_df['PRESSAO ATMOSFERICA AO NIVEL DA ESTACAO, HORARIA (mB)'] = general_df['PRESSAO ATMOSFERICA AO NIVEL DA ESTACAO, HORARIA (mB)'].astype(float)\n",
        "\n",
        "general_df['PRESSÃO ATMOSFERICA MAX.NA HORA ANT. (AUT) (mB)'] = general_df['PRESSÃO ATMOSFERICA MAX.NA HORA ANT. (AUT) (mB)'].str.replace(',','.')\n",
        "general_df['PRESSÃO ATMOSFERICA MAX.NA HORA ANT. (AUT) (mB)'] = general_df['PRESSÃO ATMOSFERICA MAX.NA HORA ANT. (AUT) (mB)'].astype(float)\n",
        "\n",
        "general_df['PRESSÃO ATMOSFERICA MIN. NA HORA ANT. (AUT) (mB)'] = general_df['PRESSÃO ATMOSFERICA MIN. NA HORA ANT. (AUT) (mB)'].str.replace(',','.')\n",
        "general_df['PRESSÃO ATMOSFERICA MIN. NA HORA ANT. (AUT) (mB)'] = general_df['PRESSÃO ATMOSFERICA MIN. NA HORA ANT. (AUT) (mB)'].astype(float)\n",
        "\n",
        "general_df['RADIACAO GLOBAL (Kj/m²)'] = general_df['RADIACAO GLOBAL (Kj/m²)'].str.replace(',','.')\n",
        "general_df['RADIACAO GLOBAL (Kj/m²)'] = general_df['RADIACAO GLOBAL (Kj/m²)'].astype(float)\n",
        "\n",
        "general_df['TEMPERATURA DO PONTO DE ORVALHO (°C)'] = general_df['TEMPERATURA DO PONTO DE ORVALHO (°C)'].str.replace(',','.')\n",
        "general_df['TEMPERATURA DO PONTO DE ORVALHO (°C)'] = general_df['TEMPERATURA DO PONTO DE ORVALHO (°C)'].astype(float)\n",
        "\n",
        "general_df['TEMPERATURA MÁXIMA NA HORA ANT. (AUT) (°C)'] = general_df['TEMPERATURA MÁXIMA NA HORA ANT. (AUT) (°C)'].str.replace(',','.')\n",
        "general_df['TEMPERATURA MÁXIMA NA HORA ANT. (AUT) (°C)'] = general_df['TEMPERATURA MÁXIMA NA HORA ANT. (AUT) (°C)'].astype(float)\n",
        "\n",
        "general_df['TEMPERATURA MÍNIMA NA HORA ANT. (AUT) (°C)'] = general_df['TEMPERATURA MÍNIMA NA HORA ANT. (AUT) (°C)'].str.replace(',','.')\n",
        "general_df['TEMPERATURA MÍNIMA NA HORA ANT. (AUT) (°C)'] = general_df['TEMPERATURA MÍNIMA NA HORA ANT. (AUT) (°C)'].astype(float)\n",
        "\n",
        "general_df['TEMPERATURA ORVALHO MAX. NA HORA ANT. (AUT) (°C)'] = general_df['TEMPERATURA ORVALHO MAX. NA HORA ANT. (AUT) (°C)'].str.replace(',','.')\n",
        "general_df['TEMPERATURA ORVALHO MAX. NA HORA ANT. (AUT) (°C)'] = general_df['TEMPERATURA ORVALHO MAX. NA HORA ANT. (AUT) (°C)'].astype(float)\n",
        "\n",
        "general_df['TEMPERATURA ORVALHO MIN. NA HORA ANT. (AUT) (°C)'] = general_df['TEMPERATURA ORVALHO MIN. NA HORA ANT. (AUT) (°C)'].str.replace(',','.')\n",
        "general_df['TEMPERATURA ORVALHO MIN. NA HORA ANT. (AUT) (°C)'] = general_df['TEMPERATURA ORVALHO MIN. NA HORA ANT. (AUT) (°C)'].astype(float)\n",
        "\n",
        "general_df['VENTO, RAJADA MAXIMA (m/s)'] = general_df['VENTO, DIREÇÃO HORARIA (gr) (° (gr))'].astype(float)\n",
        "\n",
        "general_df['VENTO, VELOCIDADE HORARIA (m/s)'] = general_df['VENTO, VELOCIDADE HORARIA (m/s)'].str.replace(',','.')\n",
        "general_df['VENTO, VELOCIDADE HORARIA (m/s)'] = general_df['VENTO, VELOCIDADE HORARIA (m/s)'].astype(float)"
      ]
    },
    {
      "cell_type": "markdown",
      "source": [
        "#### **Colunas convertidas para criação dos gráficos**"
      ],
      "metadata": {
        "id": "LZkaxxyjM-uj"
      }
    },
    {
      "cell_type": "code",
      "execution_count": null,
      "metadata": {
        "id": "SV0yDiupwsAT"
      },
      "outputs": [],
      "source": [
        "general_df.info()"
      ]
    },
    {
      "cell_type": "markdown",
      "metadata": {
        "id": "lwe6Bv_lwsAT"
      },
      "source": [
        "### **Analisando o por quê RADIACAO GLOBAL tem um padrão de valores nulos**"
      ]
    },
    {
      "cell_type": "code",
      "execution_count": null,
      "metadata": {
        "id": "swukRMDpwsAU"
      },
      "outputs": [],
      "source": [
        "radiacao_nan_df = general_df[general_df['RADIACAO GLOBAL (Kj/m²)'].isnull()]\n",
        "na_por_hora = radiacao_nan_df['Hora UTC'].value_counts().sort_index()\n",
        "\n",
        "plt.figure(figsize=(12, 6))\n",
        "na_por_hora.plot(kind='bar', color='orange')\n",
        "plt.title('Frequência de Nulls por horário na radiação solar')\n",
        "plt.xlabel('Horário')\n",
        "plt.ylabel('Número de Nulls')\n",
        "plt.xticks(rotation=45)\n",
        "plt.grid(axis='y')\n",
        "plt.tight_layout()\n",
        "plt.show()"
      ]
    },
    {
      "cell_type": "markdown",
      "metadata": {
        "id": "g2WK-55rwsAU"
      },
      "source": [
        "### Removendo os registros que tem RADIACAO GLOBAL nula e hora entre 6 da manhã e 20 da noite"
      ]
    },
    {
      "cell_type": "code",
      "execution_count": null,
      "metadata": {
        "id": "H3NHVeqUwsAU"
      },
      "outputs": [],
      "source": [
        "inicio = time(6, 0)\n",
        "fim = time(20, 0)\n",
        "\n",
        "filtro = (general_df['RADIACAO GLOBAL (Kj/m²)'].isnull()) & (general_df['Hora UTC'] >= inicio) & (general_df['Hora UTC'] < fim)\n",
        "\n",
        "general_df = general_df[~filtro]\n",
        "\n",
        "general_df.isnull().sum()"
      ]
    },
    {
      "cell_type": "code",
      "execution_count": null,
      "metadata": {
        "id": "9P9mMuL9wsAU"
      },
      "outputs": [],
      "source": [
        "general_df['RADIACAO GLOBAL (Kj/m²)'] = general_df['RADIACAO GLOBAL (Kj/m²)'].fillna(0)\n",
        "\n",
        "general_df.isnull().sum()"
      ]
    },
    {
      "cell_type": "code",
      "execution_count": null,
      "metadata": {
        "id": "PaGoHBJrwsAU"
      },
      "outputs": [],
      "source": [
        "general_df.info()"
      ]
    },
    {
      "cell_type": "code",
      "execution_count": null,
      "metadata": {
        "id": "LqBYpt8dwsAV"
      },
      "outputs": [],
      "source": [
        "general_df"
      ]
    },
    {
      "cell_type": "code",
      "execution_count": null,
      "metadata": {
        "id": "obLfa4uLwsAV"
      },
      "outputs": [],
      "source": [
        "general_df.describe()"
      ]
    },
    {
      "cell_type": "code",
      "execution_count": null,
      "metadata": {
        "id": "i4v9hX02wsAV"
      },
      "outputs": [],
      "source": [
        "general_df.plot(kind='box',figsize=(100,20), subplots=True)"
      ]
    },
    {
      "cell_type": "markdown",
      "metadata": {
        "id": "ySEX3gpzwsAV"
      },
      "source": [
        "### **Concatenando 'Data' com 'HORA UTC'**"
      ]
    },
    {
      "cell_type": "code",
      "execution_count": null,
      "metadata": {
        "id": "YWkZSJlawsAV"
      },
      "outputs": [],
      "source": [
        "general_df['datetime'] = general_df.apply(\n",
        "    lambda row: pd.Timestamp.combine(row['Data'],row['Hora UTC']),\n",
        "    axis = 1\n",
        ")"
      ]
    },
    {
      "cell_type": "code",
      "execution_count": null,
      "metadata": {
        "id": "a57xtOqdwsAW"
      },
      "outputs": [],
      "source": [
        "general_df['datetime']"
      ]
    },
    {
      "cell_type": "markdown",
      "metadata": {
        "id": "l9jW0qRKwsAW"
      },
      "source": [
        "### Criando uma flag para dados incorretos"
      ]
    },
    {
      "cell_type": "markdown",
      "metadata": {
        "id": "AbNhi_48wsAW"
      },
      "source": [
        "### Matriz de gráficos do tipo scatter com as variáveis definidas"
      ]
    },
    {
      "cell_type": "code",
      "execution_count": null,
      "metadata": {
        "id": "QlEDMllZwsAW"
      },
      "outputs": [],
      "source": [
        "fig = make_subplots(\n",
        "    rows=3,\n",
        "    cols=2,\n",
        "    subplot_titles=[\n",
        "        \"Temperatura\",\n",
        "        \"Pressão Atmosférica\",\n",
        "        \"Umidade Relativa\",\n",
        "        \"Velocidade do Vento\",\n",
        "        \"Precipitação\",\n",
        "        \"\"\n",
        "    ]\n",
        ")\n",
        "\n",
        "create_incorrect_data_matrix(general_df, 'TEMPERATURA DO AR - BULBO SECO, HORARIA (°C)', -50, 60, \"Temperatura\", row=1, col=1, fig=fig)\n",
        "create_incorrect_data_matrix(general_df, 'PRESSAO ATMOSFERICA AO NIVEL DA ESTACAO, HORARIA (mB)', 0, 2000, \"Pressão atmosférica\", row=1, col=2, fig=fig)\n",
        "create_incorrect_data_matrix(general_df, 'UMIDADE RELATIVA DO AR, HORARIA (%)', 0, 300, \"Umidade relativa do ar\", row=2, col=1, fig=fig)\n",
        "create_incorrect_data_matrix(general_df, 'VENTO, VELOCIDADE HORARIA (m/s)', 0, 1000, \"Velocidade do vento\", row=2, col=2, fig=fig)\n",
        "create_incorrect_data_matrix(general_df, 'PRECIPITAÇÃO TOTAL, HORÁRIO (mm)', 0, 1000, \"Precipitação\", row=3, col=1, fig=fig)\n",
        "\n",
        "\n",
        "fig.update_layout(\n",
        "    height=1200,\n",
        "    width=1000,\n",
        "    title_text=\"Variáveis Meteorológicas com Anomalias\",\n",
        "    legend_title=\"Dados incorretos [Contagem]\"\n",
        ")\n",
        "\n",
        "fig.show()"
      ]
    },
    {
      "cell_type": "markdown",
      "metadata": {
        "id": "CdyztjamwsAW"
      },
      "source": [
        "### Quantidade de dados incorretos (-9999)\n",
        "* Temperatura x Tempo: 11%\n",
        "* Pressão x Tempo: 11%\n",
        "* Umidade x Tempo: 12.3%\n",
        "* Vento x Tempo: 11.2%\n",
        "* Precipitação x tempo: 11.2%\n",
        "\n",
        "\n"
      ]
    },
    {
      "cell_type": "code",
      "execution_count": null,
      "metadata": {
        "id": "3YBuU6kvwsAW"
      },
      "outputs": [],
      "source": [
        "plot_two_variables_vs_time(\n",
        "    general_df,\n",
        "    var1='TEMPERATURA DO AR - BULBO SECO, HORARIA (°C)',\n",
        "    var2='UMIDADE RELATIVA DO AR, HORARIA (%)',\n",
        "    var1_label='Temperatura (°C)',\n",
        "    var2_label='Umidade Relativa (%)',\n",
        "    title='Temperatura e Umidade ao longo do tempo'\n",
        ")"
      ]
    }
  ],
  "metadata": {
    "colab": {
      "provenance": [],
      "include_colab_link": true
    },
    "kernelspec": {
      "display_name": "Python 3",
      "name": "python3"
    },
    "language_info": {
      "codemirror_mode": {
        "name": "ipython",
        "version": 3
      },
      "file_extension": ".py",
      "mimetype": "text/x-python",
      "name": "python",
      "nbconvert_exporter": "python",
      "pygments_lexer": "ipython3",
      "version": "3.13.3"
    }
  },
  "nbformat": 4,
  "nbformat_minor": 0
}